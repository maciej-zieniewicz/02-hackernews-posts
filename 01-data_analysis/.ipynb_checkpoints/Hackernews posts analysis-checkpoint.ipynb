{
 "cells": [
  {
   "cell_type": "markdown",
   "metadata": {},
   "source": [
    "# Data loading"
   ]
  },
  {
   "cell_type": "code",
   "execution_count": 1,
   "metadata": {},
   "outputs": [],
   "source": [
    "import os\n",
    "from csv import reader\n",
    "\n",
    "def open_dataset(file_name):        \n",
    "    fileDir = os.path.dirname(os.path.realpath('__file__'))\n",
    "    data_dir = os.path.join(fileDir, '../00-datasets')\n",
    "    data_dir = os.path.abspath(os.path.realpath(data_dir))\n",
    "    data = list(reader(open(data_dir + '/' + file_name, encoding=\"utf8\")))\n",
    "    return data[0], data[1:]"
   ]
  },
  {
   "cell_type": "code",
   "execution_count": 2,
   "metadata": {},
   "outputs": [
    {
     "name": "stdout",
     "output_type": "stream",
     "text": [
      "Header: ['id', 'title', 'url', 'num_points', 'num_comments', 'author', 'created_at'] \n",
      "\n",
      "['12224879', 'Interactive Dynamic Video', 'http://www.interactivedynamicvideo.com/', '386', '52', 'ne0phyte', '8/4/2016 11:52'] \n",
      "\n",
      "['10975351', 'How to Use Open Source and Shut the Fuck Up at the Same Time', 'http://hueniverse.com/2016/01/26/how-to-use-open-source-and-shut-the-fuck-up-at-the-same-time/', '39', '10', 'josep2', '1/26/2016 19:30'] \n",
      "\n",
      "['11964716', \"Florida DJs May Face Felony for April Fools' Water Joke\", 'http://www.thewire.com/entertainment/2013/04/florida-djs-april-fools-water-joke/63798/', '2', '1', 'vezycash', '6/23/2016 22:20'] \n",
      "\n",
      "['11919867', 'Technology ventures: From Idea to Enterprise', 'https://www.amazon.com/Technology-Ventures-Enterprise-Thomas-Byers/dp/0073523429', '3', '1', 'hswarna', '6/17/2016 0:01'] \n",
      "\n",
      "['10301696', 'Note by Note: The Making of Steinway L1037 (2007)', 'http://www.nytimes.com/2007/11/07/movies/07stein.html?_r=0', '8', '2', 'walterbell', '9/30/2015 4:12'] \n",
      "\n"
     ]
    }
   ],
   "source": [
    "hn_header, hn = open_dataset('hacker_news.csv')\n",
    "print('Header:', hn_header, '\\n')\n",
    "for i in range(5):\n",
    "    print(hn[i],'\\n')"
   ]
  },
  {
   "cell_type": "markdown",
   "metadata": {},
   "source": [
    "# General analysis\n",
    "\n",
    "Grouping posts by ask, show and other category."
   ]
  },
  {
   "cell_type": "code",
   "execution_count": 12,
   "metadata": {},
   "outputs": [
    {
     "name": "stdout",
     "output_type": "stream",
     "text": [
      "No of ask posts: 1744\n",
      "No of show posts: 1162\n",
      "No of other posts: 17194\n"
     ]
    }
   ],
   "source": [
    "ask_posts, show_posts, other_posts = [], [], []\n",
    "for row in hn:\n",
    "    title = row[1].lower()\n",
    "    if title.startswith('ask hn'):\n",
    "        ask_posts.append(row)\n",
    "    elif title.startswith('show hn'):\n",
    "        show_posts.append(row)\n",
    "    else: \n",
    "        other_posts.append(row)\n",
    "\n",
    "comment= 'No of ask posts: {}\\nNo of show posts: {}\\nNo of other posts: {}'\n",
    "print(comment.format(len(ask_posts), len(show_posts), len(other_posts)))"
   ]
  },
  {
   "cell_type": "code",
   "execution_count": 4,
   "metadata": {},
   "outputs": [
    {
     "name": "stdout",
     "output_type": "stream",
     "text": [
      "No of ask_posts comments: 24483, average: 14.04\n",
      "No of show_posts comments: 11988, average: 10.32\n",
      "\n"
     ]
    }
   ],
   "source": [
    "total_ask_comments = 0\n",
    "total_show_comments = 0\n",
    "\n",
    "\n",
    "for row in ask_posts:\n",
    "    total_ask_comments += int(row[-3])\n",
    "for row in show_posts:\n",
    "    total_show_comments += int(row[-3])\n",
    "\n",
    "avg_ask = total_ask_comments/len(ask_posts)\n",
    "avg_show = total_show_comments/len(show_posts)\n",
    "comment= 'No of ask_posts comments: {}, average: {:.2f}\\nNo of show_posts comments: {}, average: {:.2f}\\n' \n",
    "print(comment.format(total_ask_comments, avg_ask, total_show_comments, avg_show))"
   ]
  },
  {
   "cell_type": "markdown",
   "metadata": {},
   "source": [
    "### Comments:\n",
    "'Ask posts' outnumbers 'show posts' in terms of amount, number of comments and average number of replies. This suggests 'ask posts' are more popular and more valuable for HN users. We will focus on ask posts in further analysis."
   ]
  },
  {
   "cell_type": "markdown",
   "metadata": {},
   "source": [
    "# 'Ask HN' posts analysis\n",
    "We'll determine if ask posts created at a certain time are more likely to attract comments. We'll use the following steps to perform this analysis:\n",
    "\n",
    "- Calculate the amount of ask posts created in each hour of the day, along with the number of comments received.\n",
    "- Calculate the average number of comments ask posts receive by hour created."
   ]
  },
  {
   "cell_type": "code",
   "execution_count": 5,
   "metadata": {},
   "outputs": [
    {
     "name": "stdout",
     "output_type": "stream",
     "text": [
      "counts_by_hour dict:\n",
      "{9: 45, 13: 85, 10: 59, 14: 107, 16: 108, 23: 68, 12: 73, 17: 100, 15: 116, 21: 109, 20: 80, 2: 58, 18: 109, 3: 54, 5: 46, 19: 110, 1: 60, 22: 71, 8: 48, 4: 47, 0: 55, 6: 44, 7: 34, 11: 58}\n",
      "comments_by_hour dict:\n",
      "{9: 251, 13: 1253, 10: 793, 14: 1416, 16: 1814, 23: 543, 12: 687, 17: 1146, 15: 4477, 21: 1745, 20: 1722, 2: 1381, 18: 1439, 3: 421, 5: 464, 19: 1188, 1: 683, 22: 479, 8: 492, 4: 337, 0: 447, 6: 397, 7: 267, 11: 641}\n",
      "\n"
     ]
    }
   ],
   "source": [
    "import datetime as dt\n",
    "result_list = []\n",
    "\n",
    "for row in ask_posts:\n",
    "    result_list.append([row[6], int(row[-3])])\n",
    "    \n",
    "counts_by_hour = {}\n",
    "comments_by_hour = {}\n",
    "\n",
    "for row in result_list:\n",
    "    dt_object = dt.datetime.strptime(row[0], '%m/%d/%Y %H:%M')\n",
    "    hour = dt_object.hour\n",
    "    if hour in counts_by_hour:\n",
    "        counts_by_hour[hour] +=1\n",
    "        comments_by_hour[hour] += row[1]\n",
    "    else:\n",
    "        counts_by_hour[hour] = 1\n",
    "        comments_by_hour[hour] = row[1]\n",
    "    \n",
    "\n",
    "comment= 'counts_by_hour dict:\\n{}\\ncomments_by_hour dict:\\n{}\\n' \n",
    "print(comment.format(counts_by_hour, comments_by_hour))"
   ]
  },
  {
   "cell_type": "code",
   "execution_count": 8,
   "metadata": {},
   "outputs": [
    {
     "name": "stdout",
     "output_type": "stream",
     "text": [
      "avg_comments_by_hour:\n",
      "\n",
      "[9, 5.58]\n",
      "[13, 14.74]\n",
      "[10, 13.44]\n",
      "[14, 13.23]\n",
      "[16, 16.8]\n",
      "[23, 7.99]\n",
      "[12, 9.41]\n",
      "[17, 11.46]\n",
      "[15, 38.59]\n",
      "[21, 16.01]\n",
      "[20, 21.52]\n",
      "[2, 23.81]\n",
      "[18, 13.2]\n",
      "[3, 7.8]\n",
      "[5, 10.09]\n",
      "[19, 10.8]\n",
      "[1, 11.38]\n",
      "[22, 6.75]\n",
      "[8, 10.25]\n",
      "[4, 7.17]\n",
      "[0, 8.13]\n",
      "[6, 9.02]\n",
      "[7, 7.85]\n",
      "[11, 11.05]\n"
     ]
    }
   ],
   "source": [
    "avg_comments_by_hour = []\n",
    "\n",
    "for hour in counts_by_hour:\n",
    "    avg_comments_by_hour.append([hour, round(comments_by_hour[hour]/counts_by_hour[hour],2)])\n",
    "\n",
    "comment= 'avg_comments_by_hour:\\n' \n",
    "print(comment)\n",
    "for row in avg_comments_by_hour:\n",
    "    print(row)"
   ]
  },
  {
   "cell_type": "markdown",
   "metadata": {},
   "source": [
    "### Swaping values and sorting "
   ]
  },
  {
   "cell_type": "code",
   "execution_count": 19,
   "metadata": {},
   "outputs": [
    {
     "name": "stdout",
     "output_type": "stream",
     "text": [
      "Top 5 average comments per hour in 'Ask HN' :\n",
      "15:00: 38.59 average comments per post\n",
      "02:00: 23.81 average comments per post\n",
      "20:00: 21.52 average comments per post\n",
      "16:00: 16.8 average comments per post\n",
      "21:00: 16.01 average comments per post\n"
     ]
    }
   ],
   "source": [
    "swap_avg_by_hour = []\n",
    "for row in avg_comments_by_hour:\n",
    "    swap_avg_by_hour.append([row[1], row[0]])\n",
    "\n",
    "sorted_swap = sorted(swap_avg_by_hour, reverse=True)\n",
    "\n",
    "for row in sorted_swap:\n",
    "    dt_object = dt.datetime.strptime(str(row[1]), '%H')\n",
    "    hour = dt.datetime.strftime(dt_object, '%H:%M')\n",
    "    row[1] = hour\n",
    "\n",
    "comment = '{}: {} average comments per post'\n",
    "print('Top 5 average comments per hour in \\'Ask HN\\' :')\n",
    "for i in range(5):\n",
    "    print(comment.format(sorted_swap[i][1], sorted_swap[i][0]))"
   ]
  },
  {
   "cell_type": "markdown",
   "metadata": {},
   "source": [
    "### Comments:\n",
    "The hour that receives the most comments per post on average is 15:00, with an average of 38.59 comments per post. There's about a 60% increase in the number of comments between the hours with the highest and second highest average number of comments.\n",
    "\n",
    "Based on analysis, to maximize the amount of comments a post receives, I'd recommend the post be categorized as ask post and created between 15:00 and 16:00 (3:00 pm est - 4:00 pm est)."
   ]
  }
 ],
 "metadata": {
  "kernelspec": {
   "display_name": "Python 3",
   "language": "python",
   "name": "python3"
  },
  "language_info": {
   "codemirror_mode": {
    "name": "ipython",
    "version": 3
   },
   "file_extension": ".py",
   "mimetype": "text/x-python",
   "name": "python",
   "nbconvert_exporter": "python",
   "pygments_lexer": "ipython3",
   "version": "3.7.3"
  }
 },
 "nbformat": 4,
 "nbformat_minor": 2
}
